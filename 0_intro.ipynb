{
 "cells": [
  {
   "cell_type": "markdown",
   "metadata": {},
   "source": [
    "# PySM 3 Tutorial\n",
    "\n",
    "PySM provides simulations of each component of the sky emission, e.g. dust, synchrotron, scaled at a specific frequency and optionally smoothed with a specific beam and adding noise and a sky cut.\n",
    "\n",
    "It is used when designing a new instrument and scanning strategy, when producing simulated data, study the impact of systematics and more."
   ]
  },
  {
   "cell_type": "markdown",
   "metadata": {},
   "source": [
    "## Models\n",
    "\n",
    "Each model is identified with a letter and a number, the letter indicates the kind of emission and the number the type of model, generally in order of complexity starting at 1. For example for dust we start with `d1` based on Planck commander results, `d4` has 2 dust populations and `d6` implements a model of dust frequency decorrelation.\n",
    "\n",
    "For example free-free:\n",
    "\n",
    ">**f1**: We model the free-free emission using the analytic model assumed in the Commander fit to the Planck 2015 data (Draine 2011 ‘Physics of the Interstellar and Intergalactic Medium’) to produce a degree-scale map of free-free emission at 30 GHz. We add small scales to this using a procedure outlined in the accompanying paper. This map is then scaled in frequency by applying a spatially constant power law index of -2.14.\n",
    "\n",
    "* See the PySM 2 documentation: https://pysm-public.readthedocs.io/en/latest/models.html\n",
    "* See the PySM 2 paper Thorne at al: https://arxiv.org/abs/1608.02841"
   ]
  },
  {
   "cell_type": "markdown",
   "metadata": {},
   "source": [
    "## Implementation of PySM 3\n",
    "\n",
    "PySM 2 had widespread use thanks to its simplicity, but it was not implemented for efficiency, this is fine at NSIDE 512. The current generation of CMB missions needs NSIDE 4096, memory consumption and computing efficiency is a significant issue.\n",
    "\n",
    "Reimplementation of PySM 2 still focusing on usability but also being more memory and CPU efficient under the hood and also add MPI support to run in parallel."
   ]
  }
 ],
 "metadata": {
  "kernelspec": {
   "display_name": "PySM 3",
   "language": "python",
   "name": "pysm3"
  },
  "language_info": {
   "codemirror_mode": {
    "name": "ipython",
    "version": 3
   },
   "file_extension": ".py",
   "mimetype": "text/x-python",
   "name": "python",
   "nbconvert_exporter": "python",
   "pygments_lexer": "ipython3",
   "version": "3.6.7"
  }
 },
 "nbformat": 4,
 "nbformat_minor": 2
}
