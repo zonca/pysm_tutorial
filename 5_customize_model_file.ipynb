{
 "cells": [
  {
   "cell_type": "code",
   "execution_count": null,
   "metadata": {},
   "outputs": [],
   "source": [
    "import pysm\n",
    "import pysm.units as u\n",
    "import healpy as hp\n",
    "import numpy as np\n",
    "import matplotlib.pyplot as plt\n",
    "%matplotlib inline"
   ]
  },
  {
   "cell_type": "code",
   "execution_count": null,
   "metadata": {},
   "outputs": [],
   "source": [
    "%%file mydust.cfg\n",
    "\n",
    "[dustfixedspec]\n",
    "class = \"ModifiedBlackBody\"\n",
    "map_I = \"pysm_2/dust_t_new.fits\"\n",
    "map_Q = \"pysm_2/dust_q_new.fits\"\n",
    "map_U = \"pysm_2/dust_u_new.fits\"\n",
    "unit_I = \"uK_RJ\"\n",
    "unit_Q = \"uK_RJ\"\n",
    "unit_U = \"uK_RJ\"\n",
    "map_mbb_index = 1.5\n",
    "map_mbb_temperature = \"pysm_2/dust_temp.fits\"\n",
    "unit_mbb_temperature = \"K\"\n",
    "freq_ref_I = \"545 GHz\"\n",
    "freq_ref_P = \"353 GHz\""
   ]
  },
  {
   "cell_type": "code",
   "execution_count": null,
   "metadata": {},
   "outputs": [],
   "source": [
    "sky_mydust = pysm.Sky(nside=128, component_config=\"mydust.cfg\")"
   ]
  },
  {
   "cell_type": "code",
   "execution_count": null,
   "metadata": {},
   "outputs": [],
   "source": [
    "sky_d1 = pysm.Sky(nside=128, preset_strings=[\"d1\"])"
   ]
  },
  {
   "cell_type": "code",
   "execution_count": null,
   "metadata": {},
   "outputs": [],
   "source": [
    "map_100GHz_mydust = sky_mydust.get_emission(100 * u.GHz)"
   ]
  },
  {
   "cell_type": "code",
   "execution_count": null,
   "metadata": {},
   "outputs": [],
   "source": [
    "map_100GHz_d1 = sky_d1.get_emission(100 * u.GHz)"
   ]
  },
  {
   "cell_type": "code",
   "execution_count": null,
   "metadata": {},
   "outputs": [],
   "source": [
    "hp.mollview(map_100GHz_mydust[0], min=0, max=100, title=\"I map\", unit=map_100GHz_d1.unit)\n",
    "hp.mollview(map_100GHz_d1[0], min=0, max=100, title=\"I map\", unit=map_100GHz_d1.unit)"
   ]
  },
  {
   "cell_type": "code",
   "execution_count": null,
   "metadata": {},
   "outputs": [],
   "source": [
    "hp.mollview(map_100GHz_mydust[0] - map_100GHz_d1[0], min=-100, max=100, title=\"I map\", unit=map_100GHz_d1.unit)"
   ]
  },
  {
   "cell_type": "code",
   "execution_count": null,
   "metadata": {},
   "outputs": [],
   "source": []
  }
 ],
 "metadata": {
  "kernelspec": {
   "display_name": "PySM 3",
   "language": "python",
   "name": "pysm3"
  },
  "language_info": {
   "codemirror_mode": {
    "name": "ipython",
    "version": 3
   },
   "file_extension": ".py",
   "mimetype": "text/x-python",
   "name": "python",
   "nbconvert_exporter": "python",
   "pygments_lexer": "ipython3",
   "version": "3.6.7"
  }
 },
 "nbformat": 4,
 "nbformat_minor": 2
}
