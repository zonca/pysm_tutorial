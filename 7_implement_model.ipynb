{
 "cells": [
  {
   "cell_type": "code",
   "execution_count": null,
   "metadata": {},
   "outputs": [],
   "source": [
    "import pysm\n",
    "import pysm.units as u\n",
    "import numpy as np\n",
    "import healpy as hp"
   ]
  },
  {
   "cell_type": "markdown",
   "metadata": {},
   "source": [
    "In order to implement your own model, subclass `pysm.Model` and implement the `get_emission` method which gets an array of frequency `freqs` and a bandpass `weights` and performs the computation and bandpass integration and returns the output in `uK_RJ`."
   ]
  },
  {
   "cell_type": "code",
   "execution_count": null,
   "metadata": {},
   "outputs": [],
   "source": [
    "pysm.models.ModifiedBlackBody.get_emission?"
   ]
  },
  {
   "cell_type": "code",
   "execution_count": null,
   "metadata": {},
   "outputs": [],
   "source": [
    "class Monopole(pysm.Model):\n",
    "    def __init__(self, nside, value, map_dist=None):\n",
    "        super().__init__(nside=nside, map_dist=map_dist)\n",
    "        self.value = value << u.uK_RJ\n",
    "    def get_emission(self, freqs, weights=None):\n",
    "        return np.ones((3, hp.nside2npix(self.nside))) * self.value"
   ]
  },
  {
   "cell_type": "code",
   "execution_count": null,
   "metadata": {},
   "outputs": [],
   "source": [
    "monopole = Monopole(nside=128, value=1*u.mK_RJ)"
   ]
  },
  {
   "cell_type": "code",
   "execution_count": null,
   "metadata": {},
   "outputs": [],
   "source": [
    "monopole.get_emission(10 * u.GHz)"
   ]
  },
  {
   "cell_type": "code",
   "execution_count": null,
   "metadata": {},
   "outputs": [],
   "source": [
    "sky = pysm.Sky(nside=128, preset_strings=[\"d1\"], component_objects=[monopole])"
   ]
  },
  {
   "cell_type": "code",
   "execution_count": null,
   "metadata": {},
   "outputs": [],
   "source": [
    "sky.get_emission(100 * u.GHz)"
   ]
  },
  {
   "cell_type": "markdown",
   "metadata": {},
   "source": [
    "For performance better use `numba` to make use of all cores on the machine and execute at compiled code speed, for example:\n",
    "\n",
    "https://github.com/healpy/pysm/blob/master/pysm/models/power_law.py"
   ]
  }
 ],
 "metadata": {
  "kernelspec": {
   "display_name": "PySM 3",
   "language": "python",
   "name": "pysm3"
  },
  "language_info": {
   "codemirror_mode": {
    "name": "ipython",
    "version": 3
   },
   "file_extension": ".py",
   "mimetype": "text/x-python",
   "name": "python",
   "nbconvert_exporter": "python",
   "pygments_lexer": "ipython3",
   "version": "3.6.7"
  }
 },
 "nbformat": 4,
 "nbformat_minor": 2
}
